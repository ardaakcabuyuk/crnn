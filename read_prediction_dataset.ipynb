{
 "cells": [
  {
   "cell_type": "code",
   "execution_count": 5,
   "metadata": {},
   "outputs": [],
   "source": [
    "from jotform import *\n",
    "import csv\n",
    "import urllib\n",
    "import os\n",
    "from tqdm import tqdm"
   ]
  },
  {
   "cell_type": "code",
   "execution_count": 24,
   "metadata": {},
   "outputs": [],
   "source": [
    "def read_dataset(api, path, filename):\n",
    "    form_ids = [] \n",
    "    out = open(path + 'trimmed_' + filename, 'w+')\n",
    "    writer = csv.writer(out)\n",
    "    with open(path + filename, 'r') as f:\n",
    "        content = f.readlines()[1:1000]\n",
    "        for i, line in enumerate(tqdm(content)):\n",
    "            form_id = line[:-1]\n",
    "            try:\n",
    "                form = api.get_form(form_id)\n",
    "                writer.writerow([form_id])\n",
    "                form_ids.append(form_id)\n",
    "            except:\n",
    "                print('form ' + form_id + ' does not exist')\n",
    "    out.close()\n",
    "    return form_ids\n",
    "\n",
    "def get_form_urls(api, form_ids):\n",
    "    urls = {}\n",
    "    image_extensions = ['.jpg', '.JPG', '.jpeg', '.JPEG', '.png', '.PNG']\n",
    "    for form_id in tqdm(form_ids[127:]):\n",
    "        urls[form_id] = []\n",
    "        for sub in api.get_form_files(form_id): \n",
    "            for ext in image_extensions:\n",
    "                if sub['name'].endswith(ext):\n",
    "                    if urllib.urlopen(sub['url'].encode('utf-8')).getcode() == 404:\n",
    "                        if urllib.urlopen(('http://www.jotform.com/uploads/' + sub['username'] + '/form_files/' + sub['name']).encode('utf-8')).getcode() != 404:\n",
    "                            urls[form_id].append('http://www.jotform.com/uploads/' + sub['username'] + '/form_files/' + sub['name'])\n",
    "                    else:\n",
    "                        urls[form_id].append(sub['url'])\n",
    "                    break\n",
    "    return urls\n",
    "\n",
    "def create_url_dataset(path, filename, urls_dict):\n",
    "    urls_file = open(path + 'urls_' + filename, 'w+')\n",
    "    writer = csv.writer(urls_file, delimiter='|')\n",
    "    for key in tqdm(urls_dict.keys()):\n",
    "        data = [key]\n",
    "        for url in urls_dict[key]:\n",
    "            data.append(url.encode('utf-8'))\n",
    "        if len(data) != 1:\n",
    "            writer.writerow(data)\n",
    "        \n",
    "def create_image_dataset(path, url_dataset):\n",
    "    with open(path + url_dataset) as f:\n",
    "        for line in tqdm(f.readlines()[113:]):\n",
    "            data = line[:-1].split('|')\n",
    "            \n",
    "            form_id = data[0]\n",
    "            dir_name = path + 'images/' + form_id + '/'\n",
    "            if not os.path.exists(dir_name):\n",
    "                os.makedirs(dir_name)\n",
    "            \n",
    "            for img_no, url in enumerate(data[1:]):\n",
    "                urllib.urlretrieve(url, dir_name + form_id + '_' + str(img_no + 1).encode('utf-8') + '.jpg')\n",
    "                \n",
    "def main():\n",
    "    pass\n",
    "    \n",
    "if __name__ == \"__main__\":\n",
    "    main()"
   ]
  },
  {
   "cell_type": "code",
   "execution_count": 7,
   "metadata": {},
   "outputs": [],
   "source": [
    "api_key = '7f8ce90b8d898a20bebcb12c3d8b52be'\n",
    "path = 'Desktop/jotform/ocr_tool/'\n",
    "filename = 'submissionInJune408K.csv'\n",
    "url_dataset = 'urls_' + filename"
   ]
  },
  {
   "cell_type": "code",
   "execution_count": 8,
   "metadata": {},
   "outputs": [
    {
     "name": "stderr",
     "output_type": "stream",
     "text": [
      "100%|██████████| 999/999 [08:11<00:00,  2.03it/s]\n"
     ]
    }
   ],
   "source": [
    "api = JotformAPIClient(api_key)\n",
    "form_ids = read_dataset(api, path, filename)"
   ]
  },
  {
   "cell_type": "code",
   "execution_count": 18,
   "metadata": {},
   "outputs": [
    {
     "name": "stderr",
     "output_type": "stream",
     "text": [
      "100%|██████████| 872/872 [1:10:57<00:00,  4.88s/it]\n"
     ]
    }
   ],
   "source": [
    "urls_by_form = get_form_urls(api, form_ids)"
   ]
  },
  {
   "cell_type": "code",
   "execution_count": 19,
   "metadata": {},
   "outputs": [
    {
     "name": "stderr",
     "output_type": "stream",
     "text": [
      "100%|██████████| 872/872 [00:00<00:00, 104704.51it/s]\n"
     ]
    }
   ],
   "source": [
    "create_url_dataset(path, filename, urls_by_form)"
   ]
  },
  {
   "cell_type": "code",
   "execution_count": 25,
   "metadata": {},
   "outputs": [
    {
     "name": "stderr",
     "output_type": "stream",
     "text": [
      "100%|██████████| 241/241 [26:30<00:00,  6.60s/it]\n"
     ]
    }
   ],
   "source": [
    "create_image_dataset(path, url_dataset)"
   ]
  }
 ],
 "metadata": {
  "kernelspec": {
   "display_name": "Python 2",
   "language": "python",
   "name": "python2"
  },
  "language_info": {
   "codemirror_mode": {
    "name": "ipython",
    "version": 2
   },
   "file_extension": ".py",
   "mimetype": "text/x-python",
   "name": "python",
   "nbconvert_exporter": "python",
   "pygments_lexer": "ipython2",
   "version": "2.7.18"
  }
 },
 "nbformat": 4,
 "nbformat_minor": 4
}
