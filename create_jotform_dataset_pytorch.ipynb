{
 "cells": [
  {
   "cell_type": "code",
   "execution_count": 34,
   "metadata": {},
   "outputs": [],
   "source": [
    "import torch\n",
    "from torch.utils.data import Dataset\n",
    "from tqdm import tqdm\n",
    "import numpy as np\n",
    "from PIL import Image\n",
    "import os\n",
    "\n",
    "class JotformDataset(Dataset):\n",
    "    CHARS = '0123456789abcdefghijklmnopqrstuvwxyz'\n",
    "    CHAR2LABEL = {char: i + 1 for i, char in enumerate(CHARS)}\n",
    "    LABEL2CHAR = {label: char for char, label in CHAR2LABEL.items()}\n",
    "    \n",
    "    def __init__(self, root_dir = None, img_height = 100, img_width = 100):\n",
    "        paths = []\n",
    "        for r, d, f in os.walk(root_dir):\n",
    "            for file in f:\n",
    "                if file.endswith(\".jpg\"):\n",
    "                    paths.append(os.path.join(r, file))\n",
    "        \n",
    "        self.paths = paths\n",
    "        self.img_height = img_height\n",
    "        self.img_width = img_width\n",
    "        \n",
    "    def __len__(self):\n",
    "        return len(self.paths)\n",
    "    \n",
    "    def __getitem__(self, index):\n",
    "        path = self.paths[index]\n",
    "        \n",
    "        try:\n",
    "            image = Image.open(path).convert('L')  # grey-scale\n",
    "        except IOError:\n",
    "            print('Corrupted image for %d' % index)\n",
    "            return self[index + 1]\n",
    "        \n",
    "        image = image.resize((self.img_width, self.img_height), resample=Image.BILINEAR)\n",
    "        image = np.array(image)\n",
    "        image = image.reshape((1, self.img_height, self.img_width))\n",
    "        \n",
    "        image = (image / 127.5) - 1.0\n",
    "        image = torch.FloatTensor(image)\n",
    "        \n",
    "        return image\n",
    "    \n",
    "    def jotform_dataset_collate_fn(batch):\n",
    "        images = zip(*batch)\n",
    "        images = torch.stack(images, 0) \n",
    "        return images"
   ]
  },
  {
   "cell_type": "code",
   "execution_count": 36,
   "metadata": {},
   "outputs": [],
   "source": [
    "data = JotformDataset(root_dir = os.getcwd())"
   ]
  }
 ],
 "metadata": {
  "kernelspec": {
   "display_name": "Python 3",
   "language": "python",
   "name": "python3"
  },
  "language_info": {
   "codemirror_mode": {
    "name": "ipython",
    "version": 3
   },
   "file_extension": ".py",
   "mimetype": "text/x-python",
   "name": "python",
   "nbconvert_exporter": "python",
   "pygments_lexer": "ipython3",
   "version": "3.7.6"
  }
 },
 "nbformat": 4,
 "nbformat_minor": 4
}
