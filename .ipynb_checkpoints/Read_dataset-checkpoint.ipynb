{
 "cells": [
  {
   "cell_type": "code",
   "execution_count": 69,
   "metadata": {},
   "outputs": [],
   "source": [
    "from torch.utils.data import Dataset\n",
    "import numpy as np\n",
    "from PIL import Image\n",
    "import os"
   ]
  },
  {
   "cell_type": "code",
   "execution_count": 87,
   "metadata": {},
   "outputs": [],
   "source": [
    "class OCR_Dataset(Dataset):\n",
    "    CHARS = '0123456789abcdefghijklmnopqrstuvwxyz'\n",
    "    CHAR2LABEL = {char: i + 1 for i, char in enumerate(CHARS)}\n",
    "    LABEL2CHAR = {label: char for char, label in CHAR2LABEL.items()}\n",
    "    \n",
    "    def __init__ (self, mode = None, path = None, img_height = 100, img_width = 100):\n",
    "        \n",
    "        with open(os.path.join(root_dir, 'lexicon.txt'), 'r') as fr:\n",
    "            for i, line in enumerate(fr.readlines()):\n",
    "                mapping[i] = line.strip()\n",
    "        \n",
    "        if mode == 'train':\n",
    "            path = 'annotation_train.txt'\n",
    "        elif mode == 'val':\n",
    "            path = 'annotation_val.txt'\n",
    "        elif mode == 'test':\n",
    "            path = 'annotation_test.txt'\n",
    "        else:\n",
    "            raise Exception(\"Incorrect argument for variable mode!\")\n",
    "        \n",
    "        paths = []\n",
    "        texts = []\n",
    "        \n",
    "        with open(os.path.join(root_dir, path), 'r') as fr:\n",
    "            for line in fr.readlines():\n",
    "                line_stripped = line.strip()\n",
    "                \n",
    "                cur_path, index = line_stripped.split(' ')\n",
    "                \n",
    "                cur_path = os.path.join(root_dir, cur_path)\n",
    "                index = int(index)\n",
    "                \n",
    "                paths.append(cur_path)\n",
    "                texts.append(mapping[index])\n",
    "                \n",
    "        self.paths = paths\n",
    "        self.texts = texts\n",
    "        self.mode = mode\n",
    "        self.img_height = img_height\n",
    "        self.img_width = img_width\n",
    "    \n",
    "    def __len__(self):\n",
    "        return len(self.paths)\n",
    "    \n",
    "    def __getitem__(self, index):\n",
    "        \n",
    "        try:\n",
    "            image = Image.open(path).convert('L')  # grey-scale\n",
    "        except IOError:\n",
    "            print('Corrupted image for %d' % index)\n",
    "            return self[index + 1]\n",
    "        \n",
    "        image = image.resize((self.img_width, self.img_height), resample=Image.BILINEAR)\n",
    "        image = np.array(image)\n",
    "        image = image.reshape((1, self.img_height, self.img_width))\n",
    "        \n",
    "        img_min = np.min(image)\n",
    "        img_max = np.max(image)\n",
    "        image = (image - img_min) / (img_max - img_min)\n",
    "        \n",
    "        #image = (image / 127.5) - 1.0\n",
    "        image = torch.FloatTensor(image)\n",
    "        \n",
    "        if self.texts:\n",
    "            text = self.texts[index]\n",
    "            target = [self.CHAR2LABEL[c] for c in text]\n",
    "            target_length = [len(target)]\n",
    "\n",
    "            target = torch.LongTensor(target)\n",
    "            target_length = torch.LongTensor(target_length)\n",
    "            \n",
    "            return image, target, target_length\n",
    "        else:\n",
    "            return image\n",
    "\n",
    "def synth90k_collate_fn(batch):\n",
    "    images, targets, target_lengths = zip(*batch)\n",
    "    images = torch.stack(images, 0)\n",
    "    targets = torch.cat(targets, 0)\n",
    "    target_lengths = torch.cat(target_lengths, 0)\n",
    "    \n",
    "    return images, targets, target_lengths"
   ]
  },
  {
   "cell_type": "code",
   "execution_count": 84,
   "metadata": {
    "scrolled": true
   },
   "outputs": [
    {
     "data": {
      "image/png": "[encoded data removed]",
      "text/plain": [
       "<Figure size 432x288 with 1 Axes>"
      ]
     },
     "metadata": {
      "needs_background": "light"
     },
     "output_type": "display_data"
    }
   ],
   "source": [
    "import matplotlib.pyplot as plt\n",
    "from PIL import Image\n",
    "import numpy as np\n",
    "import cv2\n",
    "img_path = \"E:\\\\indirilenler\\\\mjsynth\\\\mnt\\\\ramdisk\\\\max\\\\90kDICT32px\\\\586\\\\4\\\\19_Videodiscs_84586.jpg\"\n",
    "\n",
    "imgH = 32\n",
    "imgDim = 100\n",
    "image = Image.open(img_path).convert('L')\n",
    "\n",
    "image = image.resize((imgDim, imgH), resample = Image.BILINEAR)# resample=Image.BILINEAR)\n",
    "image = np.array(image)\n",
    "\n",
    "image = image.reshape((1, imgH, imgDim))\n",
    "#image = (image / 127.5) - 1.0\n",
    "\n",
    "img_min = np.min(image)\n",
    "img_max = np.max(image)\n",
    "image = (image - img_min) / (img_max - img_min)\n",
    "\n",
    "image = image.reshape((imgH, imgDim))\n",
    "image = (image - img_min) / (img_max - img_min)\n",
    "\n",
    "#image = cv2.cvtColor(image, cv2.COLOR_GRAY2RGB)\n",
    "imgplot = plt.imshow(image)"
   ]
  },
  {
   "cell_type": "code",
   "execution_count": null,
   "metadata": {},
   "outputs": [],
   "source": [
    "data = OCR_DATASET"
   ]
  }
 ],
 "metadata": {
  "kernelspec": {
   "display_name": "Python 3",
   "language": "python",
   "name": "python3"
  },
  "language_info": {
   "codemirror_mode": {
    "name": "ipython",
    "version": 3
   },
   "file_extension": ".py",
   "mimetype": "text/x-python",
   "name": "python",
   "nbconvert_exporter": "python",
   "pygments_lexer": "ipython3",
   "version": "3.7.6"
  }
 },
 "nbformat": 4,
 "nbformat_minor": 4
}
