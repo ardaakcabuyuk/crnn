{
 "cells": [
  {
   "cell_type": "code",
   "execution_count": 1,
   "metadata": {},
   "outputs": [],
   "source": [
    "from jotform import *"
   ]
  },
  {
   "cell_type": "code",
   "execution_count": null,
   "metadata": {},
   "outputs": [],
   "source": [
    "def read_dataset(api, path, filename):\n",
    "    form_ids = [] \n",
    "    out = open(path + 'trimmed_' + filename, 'w+')\n",
    "    with open(path + filename, 'r') as f:\n",
    "        content = f.readlines()[1:]\n",
    "        for line in content:\n",
    "            form_id = line[:-1]\n",
    "            try:\n",
    "                form = api.get_form(form_id)\n",
    "                out.write(line)\n",
    "                form_ids.append(form_id)\n",
    "            except:\n",
    "                print('form ' + form_id + ' does not exist')\n",
    "                \n",
    "    out.close()\n",
    "    return form_ids\n",
    "    \n",
    "def get_form_urls(api, form_ids):\n",
    "    urls = {}\n",
    "    for form_id in form_ids:\n",
    "        urls[form_id].append([sub['url'] for sub in api.get_form_files(form_id)])\n",
    "    \n",
    "    return urls\n",
    "        \n",
    "def main():\n",
    "    \n",
    "    api_key = '7f8ce90b8d898a20bebcb12c3d8b52be'\n",
    "    api = JotformAPIClient(api_key)\n",
    "    form_ids = read_dataset(api, 'Desktop/jotform/ocr_tool/', 'submissionInJune408K.csv')\n",
    "    urls_by_form = get_form_urls(api, form_ids)\n",
    "\n",
    "if __name__ == \"__main__\":\n",
    "    main()"
   ]
  },
  {
   "cell_type": "code",
   "execution_count": 1,
   "metadata": {},
   "outputs": [
    {
     "ename": "NameError",
     "evalue": "name 'out' is not defined",
     "output_type": "error",
     "traceback": [
      "\u001b[0;31m---------------------------------------------------------------------------\u001b[0m",
      "\u001b[0;31mNameError\u001b[0m                                 Traceback (most recent call last)",
      "\u001b[0;32m<ipython-input-1-09523833562d>\u001b[0m in \u001b[0;36m<module>\u001b[0;34m()\u001b[0m\n\u001b[0;32m----> 1\u001b[0;31m \u001b[0mout\u001b[0m\u001b[0;34m.\u001b[0m\u001b[0mclose\u001b[0m\u001b[0;34m(\u001b[0m\u001b[0;34m)\u001b[0m\u001b[0;34m\u001b[0m\u001b[0m\n\u001b[0m",
      "\u001b[0;31mNameError\u001b[0m: name 'out' is not defined"
     ]
    }
   ],
   "source": [
    "out.close()"
   ]
  },
  {
   "cell_type": "code",
   "execution_count": null,
   "metadata": {},
   "outputs": [],
   "source": []
  }
 ],
 "metadata": {
  "kernelspec": {
   "display_name": "Python 2",
   "language": "python",
   "name": "python2"
  },
  "language_info": {
   "codemirror_mode": {
    "name": "ipython",
    "version": 2
   },
   "file_extension": ".py",
   "mimetype": "text/x-python",
   "name": "python",
   "nbconvert_exporter": "python",
   "pygments_lexer": "ipython2",
   "version": "2.7.18"
  }
 },
 "nbformat": 4,
 "nbformat_minor": 4
}
